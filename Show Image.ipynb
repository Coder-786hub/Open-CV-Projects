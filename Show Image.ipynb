{
 "cells": [
  {
   "cell_type": "code",
   "execution_count": 1,
   "id": "46da2e3b-9c78-4a0c-bc34-56ed4a76ccaa",
   "metadata": {},
   "outputs": [],
   "source": [
    "import cv2\n",
    "import numpy as np\n",
    "import os"
   ]
  },
  {
   "cell_type": "code",
   "execution_count": 59,
   "id": "6d5e498f-352e-4d6a-b5e5-dc7e007525fd",
   "metadata": {},
   "outputs": [],
   "source": [
    "img = cv2.imread(\"Image/aftab alam.jpg\")\n",
    "cv2.imshow(\"Aftab\",img)\n",
    "cv2.waitKey(0)\n",
    "cv2.destroyAllWindows()"
   ]
  },
  {
   "cell_type": "markdown",
   "id": "990b5126-5b89-47d2-aae8-9e3d9f79a919",
   "metadata": {},
   "source": [
    "# Showing Multiple Image"
   ]
  },
  {
   "cell_type": "code",
   "execution_count": 2,
   "id": "3d5e008d-8cb2-4bd9-a185-6aef3a1eacd8",
   "metadata": {},
   "outputs": [],
   "source": [
    "img1 = cv2.imread(\"Image/aftab alam.jpg\")\n",
    "img1 = cv2.resize(img1, (300, 300))\n",
    "h = np.hstack((img1, img1))\n",
    "v = np.vstack((h,h))\n",
    "cv2.imshow(\"aftab\", v)\n",
    "cv2.waitKey(0)\n",
    "cv2.destroyAllWindows()\n"
   ]
  },
  {
   "cell_type": "markdown",
   "id": "3f587642-195d-4f13-a3c0-bca19487fd96",
   "metadata": {},
   "source": [
    "# Showing slides"
   ]
  },
  {
   "cell_type": "code",
   "execution_count": 4,
   "id": "467ea9d9-a813-4663-a888-ae26d1c6e300",
   "metadata": {},
   "outputs": [],
   "source": [
    "list_name = os.listdir(\"Image/\")\n",
    "for name in list_name:\n",
    "    path = \"Image/\"\n",
    "    img_name = os.path.join(path,name)\n",
    "    img = cv2.imread(img_name)\n",
    "    img = cv2.resize(img, (300,300))\n",
    "    cv2.imshow(\"Images\",img)\n",
    "    cv2.waitKey(1000)\n",
    "    cv2.destroyAllWindows()"
   ]
  },
  {
   "cell_type": "markdown",
   "id": "1fd72e80-5120-453e-a83d-95c9fe76404a",
   "metadata": {},
   "source": [
    "# Putting Text Over Image"
   ]
  },
  {
   "cell_type": "code",
   "execution_count": 62,
   "id": "fda28238-d4a3-4870-8707-3dec5f435b64",
   "metadata": {},
   "outputs": [],
   "source": [
    "img = cv2.imread(\"Images/aftab alam.jpg\")\n",
    "img1 = cv2.resize(img1, (700, 400))\n",
    "txt = cv2.putText(img = img1, text = \"Aftab Alam\", org = (50, 70),\n",
    "                  fontFace = cv2.FONT_HERSHEY_DUPLEX, fontScale = 3,\n",
    "                  color = (0, 0, 255), thickness = 3,\n",
    "                  lineType = cv2.LINE_8, bottomLeftOrigin = False)\n",
    "\n",
    "txt = cv2.putText(img = txt, text = \"Aftab Alam\", org = (50, 80),\n",
    "                  fontFace = cv2.FONT_HERSHEY_DUPLEX, fontScale = 3,\n",
    "                  color = (255, 0, 0), thickness = 3,\n",
    "                  lineType = cv2.LINE_8, bottomLeftOrigin = True)    # Reverse the Image \n",
    "\n",
    "cv2.imshow(\"Aftab\", txt)\n",
    "cv2.waitKey(0)\n",
    "cv2.destroyAllWindows()"
   ]
  },
  {
   "cell_type": "markdown",
   "id": "b7769a34-6c3a-4efc-8eea-2a2f25fb6e07",
   "metadata": {},
   "source": [
    "# Draw a line or Rectangle on image"
   ]
  },
  {
   "cell_type": "code",
   "execution_count": 86,
   "id": "05a710ac-2c54-4101-bad6-20020b907982",
   "metadata": {},
   "outputs": [],
   "source": [
    "old_img = cv2.imread(\"E:\\\\Desktop\\\\Deep Learning\\\\Open CV\\\\Image\\\\aftab alam.jpg\")\n",
    "old_img1 = cv2.resize(old_img, (500, 700))\n",
    "\n",
    "new_img = cv2.line(img = old_img, pt1 = (350, 200), pt2 = (460, 200), color = (0,255,0), thickness = 4, lineType = 4)\n",
    "\n",
    "cv2.imshow(\"Aftab\", new_img)\n",
    "cv2.waitKey(0)\n",
    "cv2.destroyAllWindows()\n",
    "\n"
   ]
  },
  {
   "cell_type": "code",
   "execution_count": 99,
   "id": "ddf1f876-7e0d-420d-9e26-6b228d1ed613",
   "metadata": {},
   "outputs": [],
   "source": [
    "old_img = cv2.imread(\"E:\\\\Desktop\\\\Deep Learning\\\\Open CV\\\\Image\\\\aftab alam.jpg\")\n",
    "old_img1 = cv2.resize(old_img, (500, 700))\n",
    "\n",
    "\n",
    "new_img = cv2.rectangle(img = old_img, pt1 = (350, 120), pt2 = (480, 310), color = (0,255,0), thickness = 4, lineType = 4)\n",
    "\n",
    "cv2.imshow(\"Aftab\", new_img)\n",
    "cv2.waitKey(0)\n",
    "cv2.destroyAllWindows()"
   ]
  },
  {
   "cell_type": "markdown",
   "id": "75232689-942f-442a-be91-3609aac58390",
   "metadata": {},
   "source": [
    "# How to Draw Circle And Elipse on Image "
   ]
  },
  {
   "cell_type": "code",
   "execution_count": 121,
   "id": "26ac03fb-722d-46c3-8d56-0ea0aad275d5",
   "metadata": {},
   "outputs": [],
   "source": [
    "old_img = cv2.imread(\"E:\\\\Desktop\\\\Deep Learning\\\\Open CV\\\\Image\\\\aftab alam.jpg\")\n",
    "old_img1 = cv2.resize(old_img, (500, 700))\n",
    "\n",
    "new_img = cv2.circle(img = old_img1, center = (290, 130), radius = 40, color = (0,255,0), thickness = -1, lineType = 16)\n",
    "\n",
    "cv2.imshow(\"Aftab\", new_img)\n",
    "cv2.waitKey(0)\n",
    "cv2.destroyAllWindows()"
   ]
  },
  {
   "cell_type": "code",
   "execution_count": 130,
   "id": "25f1064f-340b-4d6d-8d84-bea294fc1392",
   "metadata": {},
   "outputs": [],
   "source": [
    "old_img = cv2.imread(\"E:\\\\Desktop\\\\Deep Learning\\\\Open CV\\\\Image\\\\aftab alam.jpg\")\n",
    "old_img1 = cv2.resize(old_img, (500, 700))\n",
    "\n",
    "new_img = cv2.ellipse(img = old_img1, center = (290, 130), axes = (30, 50), angle = 30 ,startAngle = 0, endAngle = 360,\n",
    "                      color = (0,255,0), thickness = -4, lineType = 16)\n",
    "\n",
    "cv2.imshow(\"Aftab\", new_img)\n",
    "cv2.waitKey(0)\n",
    "cv2.destroyAllWindows()"
   ]
  },
  {
   "cell_type": "markdown",
   "id": "a5ea2dae-041a-4f08-aaa0-ec86251def99",
   "metadata": {},
   "source": [
    "# Draw Polygons on Image"
   ]
  },
  {
   "cell_type": "code",
   "execution_count": 144,
   "id": "0d673ec1-d04e-40fe-9482-dd7e3fcd222b",
   "metadata": {},
   "outputs": [],
   "source": [
    "old_img = cv2.imread(\"E:\\\\Desktop\\\\Deep Learning\\\\Open CV\\\\Image\\\\aftab alam.jpg\")\n",
    "old_img1 = cv2.resize(old_img, (500, 600))\n",
    "\n",
    "new_img = cv2.polylines(img = old_img1, \n",
    "                        pts =[np.array([[150,100],[350,80],[300, 250],[300,350],[200,400]])] ,\n",
    "                        isClosed = True, color = (0,255,0), thickness = 4, lineType = 16)\n",
    "\n",
    "cv2.imshow(\"Aftab\", new_img)\n",
    "cv2.waitKey(0)\n",
    "cv2.destroyAllWindows()"
   ]
  },
  {
   "cell_type": "markdown",
   "id": "87fc4779-8ebb-4b1f-b7eb-0ec834f176b2",
   "metadata": {},
   "source": []
  },
  {
   "cell_type": "code",
   "execution_count": null,
   "id": "366c19e8-7a75-4a28-a740-eb35643cdbcd",
   "metadata": {},
   "outputs": [],
   "source": []
  }
 ],
 "metadata": {
  "kernelspec": {
   "display_name": "Python 3 (ipykernel)",
   "language": "python",
   "name": "python3"
  },
  "language_info": {
   "codemirror_mode": {
    "name": "ipython",
    "version": 3
   },
   "file_extension": ".py",
   "mimetype": "text/x-python",
   "name": "python",
   "nbconvert_exporter": "python",
   "pygments_lexer": "ipython3",
   "version": "3.12.2"
  }
 },
 "nbformat": 4,
 "nbformat_minor": 5
}
